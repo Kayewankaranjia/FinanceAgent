{
 "cells": [
  {
   "cell_type": "markdown",
   "id": "bf067028",
   "metadata": {},
   "source": [
    "### Imports "
   ]
  },
  {
   "cell_type": "code",
   "execution_count": null,
   "id": "af30317e",
   "metadata": {},
   "outputs": [],
   "source": [
    "from langchain_neo4j import Neo4jVector\n",
    "from langchain_openai import OpenAIEmbeddings\n",
    "import os \n",
    "from dotenv import load_dotenv\n",
    "import json \n",
    "from src.CypherGenerator.cypher_generator import CypherGenerator, CypherUtils\n",
    "from src.CypherGenerator.models.data_model import DocumentData, ReasoningStep, QA\n",
    "from neo4j import GraphDatabase\n",
    "load_dotenv()"
   ]
  },
  {
   "cell_type": "markdown",
   "id": "6580bacb",
   "metadata": {},
   "source": [
    "### Cypher spliter and executor function  "
   ]
  },
  {
   "cell_type": "code",
   "execution_count": null,
   "id": "37d1e0a1",
   "metadata": {},
   "outputs": [],
   "source": [
    "\n",
    "# LLM and Database clients\n",
    "driver = GraphDatabase.driver(uri=os.getenv(\"Neo4j_URL\"), auth=(os.getenv(\"Neo4j_USERNAME\"), os.getenv(\"Neo4j_PASSWORD\")))\n"
   ]
  },
  {
   "cell_type": "code",
   "execution_count": null,
   "id": "b49374f4",
   "metadata": {},
   "outputs": [],
   "source": [
    "def ingest_to_neo4j(cypher_script):\n",
    "    with driver.session() as session:\n",
    "        # Split by ';' to execute each statement separately, ignore empty\n",
    "        for stmt in cypher_script.split(';'):\n",
    "            stmt = stmt.strip()\n",
    "            if stmt:\n",
    "                session.run(stmt)"
   ]
  },
  {
   "cell_type": "markdown",
   "id": "076620af",
   "metadata": {},
   "source": [
    "### Ingest into Neo4j Database"
   ]
  },
  {
   "cell_type": "code",
   "execution_count": null,
   "id": "f9174f11",
   "metadata": {},
   "outputs": [],
   "source": [
    "with open('src/data/train.json') as f:\n",
    "    raw_data = json.load(f)\n",
    "\n",
    "for doc in raw_data:\n",
    "    document_data = DocumentData(**doc)\n",
    "\n",
    "    # Create the generator instance correctly with DocumentData\n",
    "    cypher_generator = CypherGenerator(document_data)\n",
    "    # Generate Cypher statements\n",
    "    try:\n",
    "        cypher_statements = cypher_generator.generate()\n",
    "        ingest_to_neo4j(cypher_statements)\n",
    "    except Exception as e:\n",
    "        if 'error_list' not in locals():\n",
    "            error_list = []\n",
    "        error_list.append({\"doc_id\": document_data.id, \"error\": str(e)})\n",
    "    # Output statements\n",
    "    print(error_list)"
   ]
  },
  {
   "cell_type": "markdown",
   "id": "29a729fe",
   "metadata": {},
   "source": [
    "### Vectorise relevent nodes"
   ]
  },
  {
   "cell_type": "code",
   "execution_count": null,
   "id": "167fb65c",
   "metadata": {},
   "outputs": [],
   "source": [
    "# Create the vectorstore for our existing graph\n",
    "cell_graph = Neo4jVector.from_existing_graph(\n",
    "    embedding=OpenAIEmbeddings(openai_api_key=os.getenv(\"OPENAI_API_KEY\")),\n",
    "    url=os.getenv(\"Neo4j_URL\"),\n",
    "    username=os.getenv(\"Neo4j_USERNAME\"),\n",
    "    password=os.getenv(\"Neo4j_PASSWORD\"),\n",
    "    index_name=\"vinx_cellval\",\n",
    "    node_label=\"Cell\",\n",
    "    text_node_properties=[\"value\"],\n",
    "    embedding_node_property=\"cell_embedding\",\n",
    ")"
   ]
  },
  {
   "cell_type": "code",
   "execution_count": null,
   "id": "8e5eb098",
   "metadata": {},
   "outputs": [],
   "source": [
    "# Create the vectorstore for our existing graph\n",
    "Sent_graph = Neo4jVector.from_existing_graph(\n",
    "    embedding=OpenAIEmbeddings(openai_api_key=os.getenv(\"OPENAI_API_KEY\")),\n",
    "    url=os.getenv(\"Neo4j_URL\"),\n",
    "    username=os.getenv(\"Neo4j_USERNAME\"),\n",
    "    password=os.getenv(\"Neo4j_PASSWORD\"),\n",
    "    index_name=\"vinx_sentval\",\n",
    "    node_label=\"Sentence\",\n",
    "    text_node_properties=[\"text\"],\n",
    "    embedding_node_property=\"cell_embedding\",)"
   ]
  }
 ],
 "metadata": {
  "kernelspec": {
   "display_name": "finance_bot_env",
   "language": "python",
   "name": "python3"
  },
  "language_info": {
   "codemirror_mode": {
    "name": "ipython",
    "version": 3
   },
   "file_extension": ".py",
   "mimetype": "text/x-python",
   "name": "python",
   "nbconvert_exporter": "python",
   "pygments_lexer": "ipython3",
   "version": "3.12.10"
  }
 },
 "nbformat": 4,
 "nbformat_minor": 5
}
